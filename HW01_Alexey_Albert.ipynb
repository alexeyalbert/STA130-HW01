{
 "cells": [
  {
   "cell_type": "markdown",
   "id": "677c619c",
   "metadata": {},
   "source": [
    "# STA130 HW01\n",
    "**Alexey Albert**\\\n",
    "CHAT LOGS:\\\n",
    "https://chatgpt.com/share/66edf8be-732c-800d-87a5-b3d8fec9c742 \\\n",
    "https://chatgpt.com/share/66f4d107-6454-800d-86fc-185bb25630ca\n",
    "\n",
    "\n",
    "## PRE-LECTURE:"
   ]
  },
  {
   "cell_type": "markdown",
   "id": "4ef92184",
   "metadata": {},
   "source": [
    "## 1."
   ]
  },
  {
   "cell_type": "code",
   "execution_count": 1,
   "id": "dce7db57",
   "metadata": {},
   "outputs": [
    {
     "data": {
      "text/plain": [
       "row_n           0\n",
       "id              1\n",
       "name            0\n",
       "gender          0\n",
       "species         0\n",
       "birthday        0\n",
       "personality     0\n",
       "song           11\n",
       "phrase          0\n",
       "full_id         0\n",
       "url             0\n",
       "dtype: int64"
      ]
     },
     "execution_count": 1,
     "metadata": {},
     "output_type": "execute_result"
    }
   ],
   "source": [
    "import pandas as pd\n",
    "url = \"https://raw.githubusercontent.com/rfordatascience/tidytuesday/master/data/2020/2020-05-05/villagers.csv\"\n",
    "villagers_df = pd.read_csv(url)\n",
    "villagers_df.isna().sum()"
   ]
  },
  {
   "cell_type": "markdown",
   "id": "e03a95eb",
   "metadata": {},
   "source": [
    "## 2."
   ]
  },
  {
   "cell_type": "code",
   "execution_count": 2,
   "id": "f83e44d9",
   "metadata": {},
   "outputs": [
    {
     "data": {
      "text/plain": [
       "(391,\n",
       " 11,\n",
       " ['row_n',\n",
       "  'id',\n",
       "  'name',\n",
       "  'gender',\n",
       "  'species',\n",
       "  'birthday',\n",
       "  'personality',\n",
       "  'song',\n",
       "  'phrase',\n",
       "  'full_id',\n",
       "  'url'])"
      ]
     },
     "execution_count": 2,
     "metadata": {},
     "output_type": "execute_result"
    }
   ],
   "source": [
    "num_rows, num_columns = villagers_df.shape\n",
    "column_names = villagers_df.columns.tolist()\n",
    "\n",
    "num_rows, num_columns, column_names"
   ]
  },
  {
   "cell_type": "markdown",
   "id": "0f2b5dee",
   "metadata": {},
   "source": [
    "### Definitions:\n",
    "**Observations:** A single entry/record/entitiy in the data set. In this case, each villager is an observation. Every row corrosponds to an observation which has specific properties defined by the columns of the dataset.\n",
    "\n",
    "**Variables:** The characteristics/attributes associated with each observation. If each row is a different observation, each column is a variable pertaining to that observation. In this case, the variables are the name, gender, birthday, song, etc. of each villager."
   ]
  },
  {
   "cell_type": "markdown",
   "id": "3752c83b",
   "metadata": {},
   "source": [
    "## 3."
   ]
  },
  {
   "cell_type": "code",
   "execution_count": 3,
   "id": "b719b59d",
   "metadata": {},
   "outputs": [
    {
     "name": "stdout",
     "output_type": "stream",
     "text": [
      "Data type of each column:\n",
      "row_n           int64\n",
      "id             object\n",
      "name           object\n",
      "gender         object\n",
      "species        object\n",
      "birthday       object\n",
      "personality    object\n",
      "song           object\n",
      "phrase         object\n",
      "full_id        object\n",
      "url            object\n",
      "dtype: object\n",
      "\n",
      "Description of the DataFrame:\n",
      "            row_n\n",
      "count  391.000000\n",
      "mean   239.902813\n",
      "std    140.702672\n",
      "min      2.000000\n",
      "25%    117.500000\n",
      "50%    240.000000\n",
      "75%    363.500000\n",
      "max    483.000000\n",
      "\n",
      "Unique counts for categorical columns:\n",
      "id             390\n",
      "name           391\n",
      "gender           2\n",
      "species         35\n",
      "birthday       361\n",
      "personality      8\n",
      "song            92\n",
      "phrase         388\n",
      "full_id        391\n",
      "url            391\n",
      "dtype: int64\n"
     ]
    }
   ],
   "source": [
    "print(\"Data type of each column:\")\n",
    "print(villagers_df.dtypes)\n",
    "\n",
    "print(\"\\nDescription of the DataFrame:\")\n",
    "print(villagers_df.describe())\n",
    "\n",
    "print(\"\\nUnique counts for categorical columns:\")\n",
    "categorical_columns = villagers_df.select_dtypes(include=['object']).columns\n",
    "print(villagers_df[categorical_columns].nunique())"
   ]
  },
  {
   "cell_type": "markdown",
   "id": "a26a04fa",
   "metadata": {},
   "source": [
    "## 4. "
   ]
  },
  {
   "cell_type": "code",
   "execution_count": 4,
   "id": "292c3e6e",
   "metadata": {},
   "outputs": [
    {
     "data": {
      "text/plain": [
       "(391, 11)"
      ]
     },
     "execution_count": 4,
     "metadata": {},
     "output_type": "execute_result"
    }
   ],
   "source": [
    "villagers_df.shape"
   ]
  },
  {
   "cell_type": "code",
   "execution_count": 5,
   "id": "ffd511ba",
   "metadata": {},
   "outputs": [
    {
     "data": {
      "text/html": [
       "<div>\n",
       "<style scoped>\n",
       "    .dataframe tbody tr th:only-of-type {\n",
       "        vertical-align: middle;\n",
       "    }\n",
       "\n",
       "    .dataframe tbody tr th {\n",
       "        vertical-align: top;\n",
       "    }\n",
       "\n",
       "    .dataframe thead th {\n",
       "        text-align: right;\n",
       "    }\n",
       "</style>\n",
       "<table border=\"1\" class=\"dataframe\">\n",
       "  <thead>\n",
       "    <tr style=\"text-align: right;\">\n",
       "      <th></th>\n",
       "      <th>row_n</th>\n",
       "    </tr>\n",
       "  </thead>\n",
       "  <tbody>\n",
       "    <tr>\n",
       "      <th>count</th>\n",
       "      <td>391.000000</td>\n",
       "    </tr>\n",
       "    <tr>\n",
       "      <th>mean</th>\n",
       "      <td>239.902813</td>\n",
       "    </tr>\n",
       "    <tr>\n",
       "      <th>std</th>\n",
       "      <td>140.702672</td>\n",
       "    </tr>\n",
       "    <tr>\n",
       "      <th>min</th>\n",
       "      <td>2.000000</td>\n",
       "    </tr>\n",
       "    <tr>\n",
       "      <th>25%</th>\n",
       "      <td>117.500000</td>\n",
       "    </tr>\n",
       "    <tr>\n",
       "      <th>50%</th>\n",
       "      <td>240.000000</td>\n",
       "    </tr>\n",
       "    <tr>\n",
       "      <th>75%</th>\n",
       "      <td>363.500000</td>\n",
       "    </tr>\n",
       "    <tr>\n",
       "      <th>max</th>\n",
       "      <td>483.000000</td>\n",
       "    </tr>\n",
       "  </tbody>\n",
       "</table>\n",
       "</div>"
      ],
      "text/plain": [
       "            row_n\n",
       "count  391.000000\n",
       "mean   239.902813\n",
       "std    140.702672\n",
       "min      2.000000\n",
       "25%    117.500000\n",
       "50%    240.000000\n",
       "75%    363.500000\n",
       "max    483.000000"
      ]
     },
     "execution_count": 5,
     "metadata": {},
     "output_type": "execute_result"
    }
   ],
   "source": [
    "villagers_df.describe()"
   ]
  },
  {
   "cell_type": "markdown",
   "id": "ccce842a",
   "metadata": {},
   "source": [
    "4. is n/a since the data matches up between `df.shape` and `df.describe()`"
   ]
  },
  {
   "cell_type": "markdown",
   "id": "5afcde34",
   "metadata": {},
   "source": [
    "## 5.\n",
    "### Definitions:\n",
    "**Attribute:** A property of a stored object, which can be retrived and used like any other variable. No parenthesis.\n",
    "\n",
    "**Method:** A function that belongs to an object, which is called upon and returns a value/variable or simply performs a set of actions. Called with parenthesis since you can pass in arguments when calling them."
   ]
  },
  {
   "cell_type": "markdown",
   "id": "eb6cf9f3",
   "metadata": {},
   "source": [
    "## POST-LECTURE:"
   ]
  },
  {
   "cell_type": "markdown",
   "id": "a6742288",
   "metadata": {},
   "source": [
    "## 6.\n",
    "**`df.describe()`:**\n",
    "\n",
    "**count**\\\n",
    "The number of non-blank values for each column.\n",
    "\n",
    "**mean**\\\n",
    "The mathematical mean of the column values.\n",
    "\n",
    "**std**\\\n",
    "The standard deviation. The spread of the data around the mean.\n",
    "\n",
    "**min**\\\n",
    "Smallest value in the column.\n",
    "\n",
    "**25%** \\\n",
    "The first quartile/the value under which 25% of the data is found when sorted in increasing order.\n",
    "\n",
    "**50%** \\\n",
    "AKA the median. The middle value when the data is sorted in increasing order.\n",
    "\n",
    "**75%** \\\n",
    "The third quartile/the value under which 75% of the data is found when sorted in increasing order.\n",
    "\n",
    "**max**\\\n",
    "The largest value in the column."
   ]
  },
  {
   "cell_type": "markdown",
   "id": "8fb61140",
   "metadata": {},
   "source": [
    "## 7."
   ]
  },
  {
   "cell_type": "markdown",
   "id": "4646113b",
   "metadata": {},
   "source": [
    "`df.dropna()` can be used to delete columns OR rows, as well as return a new DataFrame with the specified changes, while `del df['col']` will delete a specified column. If you have an entry with missing fields/columns, you can use `dr.dropna()` and set `inplace` to `False` to return a new DataFrame with that entry deleted. `del df['col']` would modify the original DataFrame permenently and would only allow you to delete an entire column, thus affecting every other entry in the DataFrame as well."
   ]
  },
  {
   "cell_type": "markdown",
   "id": "3f54a00e",
   "metadata": {},
   "source": [
    "**(1).** You have a db with account info for an app, and need to feed contact info into a 3rd party email marketing service. Some users have deleted their accounts, but you're a bad swe and don't actually delete their info so you can beg them to come back in a few months (shhh don't tell the GDPR). So you use `df.dropna()` to return a new DataFrame with everyone with the \"deleted\" column blank removed. That way, you're left with a list of users who 'deleted' their accounts and can email them."
   ]
  },
  {
   "cell_type": "markdown",
   "id": "6d0e1afb",
   "metadata": {},
   "source": [
    "**(2).** You have a db with survey responses. The last question was an optional \"anything else?\" but you don't really care what these people think and so you permanently delete their additional comments/complaints with `del df['col']`"
   ]
  },
  {
   "cell_type": "markdown",
   "id": "3c79db98",
   "metadata": {},
   "source": [
    "**(3).** Delete completely extraneous/unneeded data columns before isolating the DataFrame into seperate ones with only the data you need/want for specific applications or function calls or wtv."
   ]
  },
  {
   "cell_type": "markdown",
   "id": "ab59dc7a",
   "metadata": {},
   "source": [
    "**(4).** I just removed all the missing data using the .dropna() function to drop any entries/rows that have missing/blank fields. This way I only delete the missing entries instead of entire columns; the valid entries are preserved."
   ]
  },
  {
   "cell_type": "code",
   "execution_count": 6,
   "id": "63dd75c8",
   "metadata": {},
   "outputs": [
    {
     "name": "stdout",
     "output_type": "stream",
     "text": [
      "BEFORE: \n",
      " row_n           0\n",
      "id              1\n",
      "name            0\n",
      "gender          0\n",
      "species         0\n",
      "birthday        0\n",
      "personality     0\n",
      "song           11\n",
      "phrase          0\n",
      "full_id         0\n",
      "url             0\n",
      "dtype: int64\n",
      "\n",
      "AFTER: \n",
      " row_n          0\n",
      "id             0\n",
      "name           0\n",
      "gender         0\n",
      "species        0\n",
      "birthday       0\n",
      "personality    0\n",
      "song           0\n",
      "phrase         0\n",
      "full_id        0\n",
      "url            0\n",
      "dtype: int64\n"
     ]
    }
   ],
   "source": [
    "print('BEFORE: \\n', villagers_df.isna().sum())\n",
    "df_cleaned = villagers_df.dropna()\n",
    "print('\\nAFTER: \\n', df_cleaned.isna().sum())"
   ]
  },
  {
   "cell_type": "markdown",
   "id": "68b78a67",
   "metadata": {},
   "source": [
    "## 8."
   ]
  },
  {
   "cell_type": "code",
   "execution_count": 12,
   "id": "6f14e9d7",
   "metadata": {},
   "outputs": [
    {
     "data": {
      "text/html": [
       "<div>\n",
       "<style scoped>\n",
       "    .dataframe tbody tr th:only-of-type {\n",
       "        vertical-align: middle;\n",
       "    }\n",
       "\n",
       "    .dataframe tbody tr th {\n",
       "        vertical-align: top;\n",
       "    }\n",
       "\n",
       "    .dataframe thead th {\n",
       "        text-align: right;\n",
       "    }\n",
       "</style>\n",
       "<table border=\"1\" class=\"dataframe\">\n",
       "  <thead>\n",
       "    <tr style=\"text-align: right;\">\n",
       "      <th></th>\n",
       "      <th>survived</th>\n",
       "      <th>pclass</th>\n",
       "      <th>age</th>\n",
       "      <th>sibsp</th>\n",
       "      <th>parch</th>\n",
       "      <th>fare</th>\n",
       "    </tr>\n",
       "  </thead>\n",
       "  <tbody>\n",
       "    <tr>\n",
       "      <th>count</th>\n",
       "      <td>891.000000</td>\n",
       "      <td>891.000000</td>\n",
       "      <td>714.000000</td>\n",
       "      <td>891.000000</td>\n",
       "      <td>891.000000</td>\n",
       "      <td>891.000000</td>\n",
       "    </tr>\n",
       "    <tr>\n",
       "      <th>mean</th>\n",
       "      <td>0.383838</td>\n",
       "      <td>2.308642</td>\n",
       "      <td>29.699118</td>\n",
       "      <td>0.523008</td>\n",
       "      <td>0.381594</td>\n",
       "      <td>32.204208</td>\n",
       "    </tr>\n",
       "    <tr>\n",
       "      <th>std</th>\n",
       "      <td>0.486592</td>\n",
       "      <td>0.836071</td>\n",
       "      <td>14.526497</td>\n",
       "      <td>1.102743</td>\n",
       "      <td>0.806057</td>\n",
       "      <td>49.693429</td>\n",
       "    </tr>\n",
       "    <tr>\n",
       "      <th>min</th>\n",
       "      <td>0.000000</td>\n",
       "      <td>1.000000</td>\n",
       "      <td>0.420000</td>\n",
       "      <td>0.000000</td>\n",
       "      <td>0.000000</td>\n",
       "      <td>0.000000</td>\n",
       "    </tr>\n",
       "    <tr>\n",
       "      <th>25%</th>\n",
       "      <td>0.000000</td>\n",
       "      <td>2.000000</td>\n",
       "      <td>20.125000</td>\n",
       "      <td>0.000000</td>\n",
       "      <td>0.000000</td>\n",
       "      <td>7.910400</td>\n",
       "    </tr>\n",
       "    <tr>\n",
       "      <th>50%</th>\n",
       "      <td>0.000000</td>\n",
       "      <td>3.000000</td>\n",
       "      <td>28.000000</td>\n",
       "      <td>0.000000</td>\n",
       "      <td>0.000000</td>\n",
       "      <td>14.454200</td>\n",
       "    </tr>\n",
       "    <tr>\n",
       "      <th>75%</th>\n",
       "      <td>1.000000</td>\n",
       "      <td>3.000000</td>\n",
       "      <td>38.000000</td>\n",
       "      <td>1.000000</td>\n",
       "      <td>0.000000</td>\n",
       "      <td>31.000000</td>\n",
       "    </tr>\n",
       "    <tr>\n",
       "      <th>max</th>\n",
       "      <td>1.000000</td>\n",
       "      <td>3.000000</td>\n",
       "      <td>80.000000</td>\n",
       "      <td>8.000000</td>\n",
       "      <td>6.000000</td>\n",
       "      <td>512.329200</td>\n",
       "    </tr>\n",
       "  </tbody>\n",
       "</table>\n",
       "</div>"
      ],
      "text/plain": [
       "         survived      pclass         age       sibsp       parch        fare\n",
       "count  891.000000  891.000000  714.000000  891.000000  891.000000  891.000000\n",
       "mean     0.383838    2.308642   29.699118    0.523008    0.381594   32.204208\n",
       "std      0.486592    0.836071   14.526497    1.102743    0.806057   49.693429\n",
       "min      0.000000    1.000000    0.420000    0.000000    0.000000    0.000000\n",
       "25%      0.000000    2.000000   20.125000    0.000000    0.000000    7.910400\n",
       "50%      0.000000    3.000000   28.000000    0.000000    0.000000   14.454200\n",
       "75%      1.000000    3.000000   38.000000    1.000000    0.000000   31.000000\n",
       "max      1.000000    3.000000   80.000000    8.000000    6.000000  512.329200"
      ]
     },
     "execution_count": 12,
     "metadata": {},
     "output_type": "execute_result"
    }
   ],
   "source": [
    "url = 'https://raw.githubusercontent.com/mwaskom/seaborn-data/master/titanic.csv'\n",
    "titanic_df = pd.read_csv(url)\n",
    "\n",
    "# Display the first 10 rows of the dataset\n",
    "#titanic_df.head(10)\n",
    "titanic_df.describe()"
   ]
  },
  {
   "cell_type": "markdown",
   "id": "1f35d207",
   "metadata": {},
   "source": [
    "**(1).** Comparing which class died or survived the most. As you can see, of those who died, most were in third class. As for those who survived, most of them were in first class."
   ]
  },
  {
   "cell_type": "code",
   "execution_count": 22,
   "id": "cc873076",
   "metadata": {},
   "outputs": [
    {
     "data": {
      "text/html": [
       "<div>\n",
       "<style scoped>\n",
       "    .dataframe tbody tr th:only-of-type {\n",
       "        vertical-align: middle;\n",
       "    }\n",
       "\n",
       "    .dataframe tbody tr th {\n",
       "        vertical-align: top;\n",
       "    }\n",
       "\n",
       "    .dataframe thead th {\n",
       "        text-align: right;\n",
       "    }\n",
       "</style>\n",
       "<table border=\"1\" class=\"dataframe\">\n",
       "  <thead>\n",
       "    <tr style=\"text-align: right;\">\n",
       "      <th></th>\n",
       "      <th>count</th>\n",
       "      <th>unique</th>\n",
       "      <th>top</th>\n",
       "      <th>freq</th>\n",
       "    </tr>\n",
       "    <tr>\n",
       "      <th>survived</th>\n",
       "      <th></th>\n",
       "      <th></th>\n",
       "      <th></th>\n",
       "      <th></th>\n",
       "    </tr>\n",
       "  </thead>\n",
       "  <tbody>\n",
       "    <tr>\n",
       "      <th>0</th>\n",
       "      <td>549</td>\n",
       "      <td>3</td>\n",
       "      <td>Third</td>\n",
       "      <td>372</td>\n",
       "    </tr>\n",
       "    <tr>\n",
       "      <th>1</th>\n",
       "      <td>342</td>\n",
       "      <td>3</td>\n",
       "      <td>First</td>\n",
       "      <td>136</td>\n",
       "    </tr>\n",
       "  </tbody>\n",
       "</table>\n",
       "</div>"
      ],
      "text/plain": [
       "         count unique    top freq\n",
       "survived                         \n",
       "0          549      3  Third  372\n",
       "1          342      3  First  136"
      ]
     },
     "execution_count": 22,
     "metadata": {},
     "output_type": "execute_result"
    }
   ],
   "source": [
    "titanic_df.groupby(\"survived\")[\"class\"].describe()"
   ]
  },
  {
   "cell_type": "markdown",
   "id": "22cf986e",
   "metadata": {},
   "source": [
    "**(2).** While `df.describe()` simply counts the number of non-missing values in each column considering all the rows in the DataFrame, `df.groupby(\"col1\")[\"col2\"].describe()` only considers `col1` and for each unique group of values in `col1`, counts the number of non-missing values in `col2`"
   ]
  },
  {
   "cell_type": "markdown",
   "id": "e736def9",
   "metadata": {},
   "source": [
    "**(3).**"
   ]
  },
  {
   "cell_type": "markdown",
   "id": "717fbefe",
   "metadata": {},
   "source": [
    "&nbsp;&nbsp;&nbsp;&nbsp;**A)** Easier with ChatGPT since it gave me the right answer right away, with a specific example of code. StackOverflow also gave me the right answer, but I had to scroll through a few wrong or unspecific ones first."
   ]
  },
  {
   "cell_type": "markdown",
   "id": "2bc8c23e",
   "metadata": {},
   "source": [
    "&nbsp;&nbsp;&nbsp;&nbsp;**B)** ChatGPT easily figured it out right away. Without it, I could easily see throguh StackOverflow that it's not a valid URL, but then I'd need to figure out the correct one myself if I didn't know it's titanic not titanics."
   ]
  },
  {
   "cell_type": "markdown",
   "id": "97a6ac3e",
   "metadata": {},
   "source": [
    "&nbsp;&nbsp;&nbsp;&nbsp;**C)** Both would have easily lead me to the correct answer, but ChatGPT was faster and provided me with a specific example/fix and an explanation. StackOverflow didn't."
   ]
  },
  {
   "cell_type": "markdown",
   "id": "97da6c6e",
   "metadata": {},
   "source": [
    "&nbsp;&nbsp;&nbsp;&nbsp;**D)** ChatGPT was faster, gave me a proper explanation and fix to implement, while googling didn't do much due to the generality of the error."
   ]
  },
  {
   "cell_type": "markdown",
   "id": "400970d5",
   "metadata": {},
   "source": [
    "&nbsp;&nbsp;&nbsp;&nbsp;**E)** Google gave me a more direct/less verbose answer, but ChatGPT once again gave me a specific example with an explanation, which would probably be more helpful for a beginner."
   ]
  },
  {
   "cell_type": "markdown",
   "id": "5777f37a",
   "metadata": {},
   "source": [
    "&nbsp;&nbsp;&nbsp;&nbsp;**F)** ChatGPT was much faster, and due to the error being specific to my code/my naming scheme, it would be harder to find an answer w "
   ]
  },
  {
   "cell_type": "markdown",
   "id": "5ac0c0d0",
   "metadata": {},
   "source": [
    "&nbsp;&nbsp;&nbsp;&nbsp;**G)** ChatGPT was faster, and more specific with examples. Google wasn't."
   ]
  },
  {
   "cell_type": "markdown",
   "id": "e43da4b4",
   "metadata": {},
   "source": [
    "**(9).** Yes."
   ]
  },
  {
   "cell_type": "markdown",
   "id": "f6d3d108",
   "metadata": {},
   "source": [
    "CHAT LOGS: (same as at top of notebook)\\\n",
    "https://chatgpt.com/share/66edf8be-732c-800d-87a5-b3d8fec9c742 \\\n",
    "https://chatgpt.com/share/66f4d107-6454-800d-86fc-185bb25630ca"
   ]
  }
 ],
 "metadata": {
  "kernelspec": {
   "display_name": "Python 3 (ipykernel)",
   "language": "python",
   "name": "python3"
  },
  "language_info": {
   "codemirror_mode": {
    "name": "ipython",
    "version": 3
   },
   "file_extension": ".py",
   "mimetype": "text/x-python",
   "name": "python",
   "nbconvert_exporter": "python",
   "pygments_lexer": "ipython3",
   "version": "3.11.6"
  }
 },
 "nbformat": 4,
 "nbformat_minor": 5
}
