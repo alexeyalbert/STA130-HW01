{
 "cells": [
  {
   "cell_type": "markdown",
   "id": "bef5d28c",
   "metadata": {},
   "source": [
    "# STA130 Project Proposal\n",
    "## Alexey Albert"
   ]
  },
  {
   "cell_type": "markdown",
   "id": "22e2f0d5",
   "metadata": {},
   "source": [
    "### Analysis 1\n",
    "For Analysis 1, I plan on exploring the `DEMO_age`, `LONELY_ucla_loneliness_scale_companionship`, `LONELY_ucla_loneliness_scale_left_out`, `LONELY_ucla_loneliness_scale_isolated`, and `DEMO_gender`/`DEMO_gender_text` variables to determine if older male survey participants experienced a higher reported occurrence of loneliness compared to younger participants or female participants of the same age. \n",
    "\n",
    "I would clean and prepare the data, removing null values or participants who didn't answer the questions required. I would then create an average loneliness score for each participant based on the 3 loneliness questions, and then make a histogram for male participants, female participants, and participants who input their gender themselves. The x-axis would be the ages of participants, and the y-axis/frequency would be the average loneliness score for each bin/age group.\n",
    "\n",
    "I expect that my analysis may show that male seniors (or at least seniors in general) experience a higher loneliness score than younger survey participants. With the project's goal being to help raise awareness about the importance of social connection and community engagement, this would prove that more resources are needed to combat loneliness in late life, and if my hypothesis about male seniors experiencing a higher loneliness rate than female seniors is right, it could open an insightful conversation into the gender dynamics surrounding aging."
   ]
  },
  {
   "cell_type": "markdown",
   "id": "bccded92",
   "metadata": {},
   "source": [
    "### Analysis 2\n",
    "For Analysis 2, I plan on exploring the `DEMO_identity_indigenous`, `DEMO_identity_pwud`, and `DEMO_identity_mental_health` variables to determine if Indigenous survey participants are more likely to have substance abuse and/or mental health challenges than non-Indigenous participants.\n",
    "\n",
    "I would clean and prepare the data, removing null values or participants who chose not to answer the questions required. I would also convert the answers for the `DEMO_identity_pwud` and `DEMO_identity_mental_health` into binary answers, i.e. a 1 or True value if their response was anything other than \"Not Selected\". I would then create 2 pie charts—one for the Indigenous results and one for the non-Indigenous results, which would each represent which percentage of the total Indigenous or non-Indigenous participants are experiencing substance abuse, and which percentage are experiencing mental health challenges.\n",
    "\n",
    "Based off historical data, I expect that my analysis will likely show that Indigenous survey participants are more likely to abuse substances and have mental health challenges than non-Indigenous participants. However, due to the sample size of the survey, my analysis may be inconclusive. In this case, I would have to bootstrap the data (with replacement) in order to create a larger sample that would be more representative of the greater community. This is important since it could help bring attention to the challenges that Indigenous people still face in this country, and bring to light the need for enhanced mental health and substance abuse support."
   ]
  },
  {
   "cell_type": "markdown",
   "id": "c8c5e83b",
   "metadata": {},
   "source": [
    "### Analysis 3\n",
    "For Analysis 3, I plan on investigating the `COVID_prevention_household`, `CONNECTION_activities_onlinegames_p3m`, `CONNECTION_activities_computer_games_p3m`, and `CONNECTION_meaningful_interactions` variables to determine if, when COVID was at its peak and households were isolating themselves from other households, those who played video games with others had more meaningful interactions than those who didn't. Due to how specific the qualifications for this analysis are, I'll probably have to bootstrap the data.\n",
    "\n",
    "To analyze whether playing video games during COVID isolation led to more meaningful interactions, I’d filter for participants who isolated their households (`COVID_prevention_household`). Then, I’d split participants into gamers and non-gamers, using `CONNECTION_meaningful_interactions` as the outcome variable. By bootstrapping, I’d repeatedly resample each group to calculate the mean meaningful interaction score, allowing for more robust comparison. Finally, I’d use density plots or box plots to visually compare distributions and a permutation test to check if observed differences are statistically significant.\n",
    "\n",
    "This is important, since it could highlight the benefits of gaming, especially for those who might not be able to find others with the same interests as them IRL. If their meaningful interactions *did* go up as a result of gaming, that would prove that it can have a positive impact, and that it should be taken more seriously as an option for social interaction."
   ]
  },
  {
   "cell_type": "markdown",
   "id": "3e5811b9",
   "metadata": {},
   "source": [
    "### Requested Group: William Bo, Leo Liu, Ivanna Garcia, Alexey Albert"
   ]
  }
 ],
 "metadata": {
  "kernelspec": {
   "display_name": "Python 3 (ipykernel)",
   "language": "python",
   "name": "python3"
  },
  "language_info": {
   "codemirror_mode": {
    "name": "ipython",
    "version": 3
   },
   "file_extension": ".py",
   "mimetype": "text/x-python",
   "name": "python",
   "nbconvert_exporter": "python",
   "pygments_lexer": "ipython3",
   "version": "3.11.6"
  }
 },
 "nbformat": 4,
 "nbformat_minor": 5
}
