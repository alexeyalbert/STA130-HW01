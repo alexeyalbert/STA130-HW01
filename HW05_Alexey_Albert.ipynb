{
 "cells": [
  {
   "cell_type": "markdown",
   "id": "8d76af65",
   "metadata": {},
   "source": [
    "# STA130 HW05\n",
    "**Alexey Albert**\\\n",
    "CHAT SUMMARY (images used)\n",
    "In this conversation, you asked me to solve question 5 from an image about simulating a p-value using a 50/50 coin-flipping model. The problem involved testing the null hypothesis that humans have no preference for tilting their heads left or right when kissing, based on observed data where 80 out of 124 couples (64.5%) tilted their heads to the right.\n",
    "\n",
    "I used Python with pandas and numpy to simulate the p-value by running 10,000 trials of head tilts under the null hypothesis. The resulting p-value was approximately 0.0013, which, according to the table provided, indicates strong evidence against the null hypothesis. You mentioned getting a slightly different p-value (0.0021), and I explained that such variation is normal due to the randomness of the simulations.\n",
    "\n",
    "https://chatgpt.com/share/67187b90-e9c0-800d-be75-9ea0f1af89d0\n",
    "\n",
    "https://chatgpt.com/share/67187b6f-bdf0-800d-9ab9-067ad7f40770\n",
    "\n",
    "\n",
    "## PRE-LECTURE:"
   ]
  },
  {
   "cell_type": "markdown",
   "id": "1671bd8d",
   "metadata": {},
   "source": [
    "**(1).**"
   ]
  },
  {
   "cell_type": "markdown",
   "id": "045590fd",
   "metadata": {},
   "source": [
    "To be examined statistically, an idea/hypothesis must have some kind of data that can be used to test it. Without data to evaulate it, a hypothesis is just an idea. \n",
    "\n",
    "A good null hypothesis must be able to be proven wrong depending on the data, must be specific and able to be tested using the data, and must be the opposite of the alternative hypothesis.\n",
    "\n",
    "In the context of hypothesis testing, a null hypothesis serves as the status quo that you try to disprove using your data, while the alternative hypothesis is the inverse of the null hypothesis, representing the cases the null doesn't cover. E.g. if the null hypothesis is \"less than 50% of the people in sta130 enjoy prof. scott's memes\" the alternative hypothesis is \"more than or exactly 50% of the people in sta130 enjoy prof. scott's memes\""
   ]
  },
  {
   "cell_type": "markdown",
   "id": "f3b35c61",
   "metadata": {},
   "source": [
    "**(2).**"
   ]
  },
  {
   "cell_type": "markdown",
   "id": "1e6cfe8d",
   "metadata": {},
   "source": [
    "This means that when we conduct a statistical test, the result we get refers to $\\mu$, the true population parameter, and not $\\bar{x}$, the sample statistic. I.e. even though we're using sample data $\\bar{x}$ to run tests, the goal is to make inferences about the entire population, which is what $\\mu$ represents. This is why the test result refers to the population and not just the sample we analyzed"
   ]
  },
  {
   "cell_type": "markdown",
   "id": "1b7731eb",
   "metadata": {},
   "source": [
    "**(3).**"
   ]
  },
  {
   "cell_type": "markdown",
   "id": "5a57abfe",
   "metadata": {},
   "source": [
    "When calculating a p-value we assume that the null hypothesis is true because that allows us to determine how likely it is to observe the data (or something more extreme) purely by chance if the null hypothesis were true. By comparing the actual data to this hypothetical world, we can see if the observed results are unusual enough to reject the null hypothesis or if they are consistent with what we'd expect under it"
   ]
  },
  {
   "cell_type": "markdown",
   "id": "9d7f21bf",
   "metadata": {},
   "source": [
    "**(4).**"
   ]
  },
  {
   "cell_type": "markdown",
   "id": "679a99be",
   "metadata": {},
   "source": [
    "A small p-value means that you're unlikely to get matching data under the assumption that the null hypothesis is correct. So, the smaller the p-value, the more unrealistic it seems that the null hypothesis accurately reflects reality, making it more likely to be rejected. Essentially a low p-value shows that the data doesn’t fit well with what we'd expect under the null hypothesis."
   ]
  },
  {
   "cell_type": "markdown",
   "id": "1df2b1cc",
   "metadata": {},
   "source": [
    "**(5).**"
   ]
  },
  {
   "cell_type": "code",
   "execution_count": 1,
   "id": "6df2ef81",
   "metadata": {},
   "outputs": [
    {
     "data": {
      "text/plain": [
       "0.0016"
      ]
     },
     "execution_count": 1,
     "metadata": {},
     "output_type": "execute_result"
    }
   ],
   "source": [
    "import numpy as np\n",
    "import pandas as pd\n",
    "\n",
    "# Set simulation parameters\n",
    "n_simulations = 10000  # Number of simulations\n",
    "n_total = 124  # Total number of couples\n",
    "p_null = 0.5  # Null hypothesis proportion (50% chance)\n",
    "n_right_observed = 80  # Observed number of couples who tilt right\n",
    "\n",
    "# Simulate head tilts under the null hypothesis (50/50 chance)\n",
    "simulations = np.random.binomial(n_total, p_null, size=n_simulations)\n",
    "\n",
    "# Calculate the proportion of simulations with results as extreme or more extreme than observed\n",
    "extreme_count = np.sum(np.abs(simulations - (n_total * p_null)) >= np.abs(n_right_observed - (n_total * p_null)))\n",
    "\n",
    "# Calculate p-value as the proportion of extreme results\n",
    "p_value_simulation = extreme_count / n_simulations\n",
    "\n",
    "p_value_simulation"
   ]
  },
  {
   "cell_type": "markdown",
   "id": "92fb6e97",
   "metadata": {},
   "source": [
    "This (p-value of 0.0016) shows strong evidence against the null hypothesis based on the ranges in the chart."
   ]
  },
  {
   "cell_type": "markdown",
   "id": "38e8d864",
   "metadata": {},
   "source": [
    "**(6).**"
   ]
  },
  {
   "cell_type": "markdown",
   "id": "bba1dcef",
   "metadata": {},
   "source": [
    "A small p-value can't prove the null hypothesis is false—it just means the data doesn’t fit well with it. For Fido, a p-value can't 100% prove innocence or guilt b/c it only shows how weird the data is if we assume he's innocent. Even if the p-value is super low, it doesn't prove he's guilty—it just gives strong evidence. Same with a high p-value: it doesn’t prove innocence, it just means the evidence isn't strong enough to reject it. The p-value can help make a judgement but won't provide an absolute truth/proof."
   ]
  },
  {
   "cell_type": "code",
   "execution_count": 2,
   "id": "193b99ce",
   "metadata": {},
   "outputs": [
    {
     "data": {
      "text/html": [
       "<div>\n",
       "<style scoped>\n",
       "    .dataframe tbody tr th:only-of-type {\n",
       "        vertical-align: middle;\n",
       "    }\n",
       "\n",
       "    .dataframe tbody tr th {\n",
       "        vertical-align: top;\n",
       "    }\n",
       "\n",
       "    .dataframe thead th {\n",
       "        text-align: right;\n",
       "    }\n",
       "</style>\n",
       "<table border=\"1\" class=\"dataframe\">\n",
       "  <thead>\n",
       "    <tr style=\"text-align: right;\">\n",
       "      <th></th>\n",
       "      <th>PatientID</th>\n",
       "      <th>Age</th>\n",
       "      <th>Gender</th>\n",
       "      <th>InitialHealthScore</th>\n",
       "      <th>FinalHealthScore</th>\n",
       "    </tr>\n",
       "  </thead>\n",
       "  <tbody>\n",
       "    <tr>\n",
       "      <th>0</th>\n",
       "      <td>1</td>\n",
       "      <td>45</td>\n",
       "      <td>M</td>\n",
       "      <td>84</td>\n",
       "      <td>86</td>\n",
       "    </tr>\n",
       "    <tr>\n",
       "      <th>1</th>\n",
       "      <td>2</td>\n",
       "      <td>34</td>\n",
       "      <td>F</td>\n",
       "      <td>78</td>\n",
       "      <td>86</td>\n",
       "    </tr>\n",
       "    <tr>\n",
       "      <th>2</th>\n",
       "      <td>3</td>\n",
       "      <td>29</td>\n",
       "      <td>M</td>\n",
       "      <td>83</td>\n",
       "      <td>80</td>\n",
       "    </tr>\n",
       "    <tr>\n",
       "      <th>3</th>\n",
       "      <td>4</td>\n",
       "      <td>52</td>\n",
       "      <td>F</td>\n",
       "      <td>81</td>\n",
       "      <td>86</td>\n",
       "    </tr>\n",
       "    <tr>\n",
       "      <th>4</th>\n",
       "      <td>5</td>\n",
       "      <td>37</td>\n",
       "      <td>M</td>\n",
       "      <td>81</td>\n",
       "      <td>84</td>\n",
       "    </tr>\n",
       "    <tr>\n",
       "      <th>5</th>\n",
       "      <td>6</td>\n",
       "      <td>41</td>\n",
       "      <td>F</td>\n",
       "      <td>80</td>\n",
       "      <td>86</td>\n",
       "    </tr>\n",
       "    <tr>\n",
       "      <th>6</th>\n",
       "      <td>7</td>\n",
       "      <td>33</td>\n",
       "      <td>M</td>\n",
       "      <td>79</td>\n",
       "      <td>86</td>\n",
       "    </tr>\n",
       "    <tr>\n",
       "      <th>7</th>\n",
       "      <td>8</td>\n",
       "      <td>48</td>\n",
       "      <td>F</td>\n",
       "      <td>85</td>\n",
       "      <td>82</td>\n",
       "    </tr>\n",
       "    <tr>\n",
       "      <th>8</th>\n",
       "      <td>9</td>\n",
       "      <td>26</td>\n",
       "      <td>M</td>\n",
       "      <td>76</td>\n",
       "      <td>83</td>\n",
       "    </tr>\n",
       "    <tr>\n",
       "      <th>9</th>\n",
       "      <td>10</td>\n",
       "      <td>39</td>\n",
       "      <td>F</td>\n",
       "      <td>83</td>\n",
       "      <td>84</td>\n",
       "    </tr>\n",
       "  </tbody>\n",
       "</table>\n",
       "</div>"
      ],
      "text/plain": [
       "   PatientID  Age Gender  InitialHealthScore  FinalHealthScore\n",
       "0          1   45      M                  84                86\n",
       "1          2   34      F                  78                86\n",
       "2          3   29      M                  83                80\n",
       "3          4   52      F                  81                86\n",
       "4          5   37      M                  81                84\n",
       "5          6   41      F                  80                86\n",
       "6          7   33      M                  79                86\n",
       "7          8   48      F                  85                82\n",
       "8          9   26      M                  76                83\n",
       "9         10   39      F                  83                84"
      ]
     },
     "execution_count": 2,
     "metadata": {},
     "output_type": "execute_result"
    }
   ],
   "source": [
    "import pandas as pd\n",
    "\n",
    "patient_data = pd.DataFrame({\n",
    "    \"PatientID\": [1, 2, 3, 4, 5, 6, 7, 8, 9, 10],\n",
    "    \"Age\": [45, 34, 29, 52, 37, 41, 33, 48, 26, 39],\n",
    "    \"Gender\": [\"M\", \"F\", \"M\", \"F\", \"M\", \"F\", \"M\", \"F\", \"M\", \"F\"],\n",
    "    \"InitialHealthScore\": [84, 78, 83, 81, 81, 80, 79, 85, 76, 83],\n",
    "    \"FinalHealthScore\": [86, 86, 80, 86, 84, 86, 86, 82, 83, 84]\n",
    "})\n",
    "patient_data"
   ]
  },
  {
   "cell_type": "code",
   "execution_count": 3,
   "id": "038a3359",
   "metadata": {},
   "outputs": [
    {
     "data": {
      "text/html": [
       "<div>\n",
       "<style scoped>\n",
       "    .dataframe tbody tr th:only-of-type {\n",
       "        vertical-align: middle;\n",
       "    }\n",
       "\n",
       "    .dataframe tbody tr th {\n",
       "        vertical-align: top;\n",
       "    }\n",
       "\n",
       "    .dataframe thead th {\n",
       "        text-align: right;\n",
       "    }\n",
       "</style>\n",
       "<table border=\"1\" class=\"dataframe\">\n",
       "  <thead>\n",
       "    <tr style=\"text-align: right;\">\n",
       "      <th></th>\n",
       "      <th>PatientID</th>\n",
       "      <th>Age</th>\n",
       "      <th>Gender</th>\n",
       "      <th>InitialHealthScore</th>\n",
       "      <th>FinalHealthScore</th>\n",
       "      <th>HealthScoreChange</th>\n",
       "    </tr>\n",
       "  </thead>\n",
       "  <tbody>\n",
       "    <tr>\n",
       "      <th>0</th>\n",
       "      <td>1</td>\n",
       "      <td>45</td>\n",
       "      <td>M</td>\n",
       "      <td>84</td>\n",
       "      <td>86</td>\n",
       "      <td>2</td>\n",
       "    </tr>\n",
       "    <tr>\n",
       "      <th>1</th>\n",
       "      <td>2</td>\n",
       "      <td>34</td>\n",
       "      <td>F</td>\n",
       "      <td>78</td>\n",
       "      <td>86</td>\n",
       "      <td>8</td>\n",
       "    </tr>\n",
       "    <tr>\n",
       "      <th>2</th>\n",
       "      <td>3</td>\n",
       "      <td>29</td>\n",
       "      <td>M</td>\n",
       "      <td>83</td>\n",
       "      <td>80</td>\n",
       "      <td>-3</td>\n",
       "    </tr>\n",
       "    <tr>\n",
       "      <th>3</th>\n",
       "      <td>4</td>\n",
       "      <td>52</td>\n",
       "      <td>F</td>\n",
       "      <td>81</td>\n",
       "      <td>86</td>\n",
       "      <td>5</td>\n",
       "    </tr>\n",
       "    <tr>\n",
       "      <th>4</th>\n",
       "      <td>5</td>\n",
       "      <td>37</td>\n",
       "      <td>M</td>\n",
       "      <td>81</td>\n",
       "      <td>84</td>\n",
       "      <td>3</td>\n",
       "    </tr>\n",
       "    <tr>\n",
       "      <th>5</th>\n",
       "      <td>6</td>\n",
       "      <td>41</td>\n",
       "      <td>F</td>\n",
       "      <td>80</td>\n",
       "      <td>86</td>\n",
       "      <td>6</td>\n",
       "    </tr>\n",
       "    <tr>\n",
       "      <th>6</th>\n",
       "      <td>7</td>\n",
       "      <td>33</td>\n",
       "      <td>M</td>\n",
       "      <td>79</td>\n",
       "      <td>86</td>\n",
       "      <td>7</td>\n",
       "    </tr>\n",
       "    <tr>\n",
       "      <th>7</th>\n",
       "      <td>8</td>\n",
       "      <td>48</td>\n",
       "      <td>F</td>\n",
       "      <td>85</td>\n",
       "      <td>82</td>\n",
       "      <td>-3</td>\n",
       "    </tr>\n",
       "    <tr>\n",
       "      <th>8</th>\n",
       "      <td>9</td>\n",
       "      <td>26</td>\n",
       "      <td>M</td>\n",
       "      <td>76</td>\n",
       "      <td>83</td>\n",
       "      <td>7</td>\n",
       "    </tr>\n",
       "    <tr>\n",
       "      <th>9</th>\n",
       "      <td>10</td>\n",
       "      <td>39</td>\n",
       "      <td>F</td>\n",
       "      <td>83</td>\n",
       "      <td>84</td>\n",
       "      <td>1</td>\n",
       "    </tr>\n",
       "  </tbody>\n",
       "</table>\n",
       "</div>"
      ],
      "text/plain": [
       "   PatientID  Age Gender  InitialHealthScore  FinalHealthScore  \\\n",
       "0          1   45      M                  84                86   \n",
       "1          2   34      F                  78                86   \n",
       "2          3   29      M                  83                80   \n",
       "3          4   52      F                  81                86   \n",
       "4          5   37      M                  81                84   \n",
       "5          6   41      F                  80                86   \n",
       "6          7   33      M                  79                86   \n",
       "7          8   48      F                  85                82   \n",
       "8          9   26      M                  76                83   \n",
       "9         10   39      F                  83                84   \n",
       "\n",
       "   HealthScoreChange  \n",
       "0                  2  \n",
       "1                  8  \n",
       "2                 -3  \n",
       "3                  5  \n",
       "4                  3  \n",
       "5                  6  \n",
       "6                  7  \n",
       "7                 -3  \n",
       "8                  7  \n",
       "9                  1  "
      ]
     },
     "execution_count": 3,
     "metadata": {},
     "output_type": "execute_result"
    }
   ],
   "source": [
    "# First let's format this data in the manner of last week's HW \"Prelecture\" video\n",
    "# from IPython.display import YouTubeVideo\n",
    "# YouTubeVideo('Xz0x-8-cgaQ', width=800, height=500)  # https://www.youtube.com/watch?v=Xz0x-8-cgaQ\n",
    "\n",
    "patient_data['HealthScoreChange'] = patient_data.FinalHealthScore-patient_data.InitialHealthScore\n",
    "# why do we do the subtraction in this order?\n",
    "patient_data"
   ]
  },
  {
   "cell_type": "code",
   "execution_count": 4,
   "id": "431ecdba",
   "metadata": {},
   "outputs": [
    {
     "name": "stdout",
     "output_type": "stream",
     "text": [
      "   HealthScoreChange  > 0 ?\n",
      "0                  2   True\n",
      "1                  8   True\n",
      "2                 -3  False\n",
      "3                  5   True\n",
      "4                  3   True\n",
      "5                  6   True\n",
      "6                  7   True\n",
      "7                 -3  False\n",
      "8                  7   True\n",
      "9                  1   True\n"
     ]
    },
    {
     "data": {
      "text/html": [
       "<div>\n",
       "<style scoped>\n",
       "    .dataframe tbody tr th:only-of-type {\n",
       "        vertical-align: middle;\n",
       "    }\n",
       "\n",
       "    .dataframe tbody tr th {\n",
       "        vertical-align: top;\n",
       "    }\n",
       "\n",
       "    .dataframe thead th {\n",
       "        text-align: right;\n",
       "    }\n",
       "</style>\n",
       "<table border=\"1\" class=\"dataframe\">\n",
       "  <thead>\n",
       "    <tr style=\"text-align: right;\">\n",
       "      <th></th>\n",
       "      <th>HealthScoreChange</th>\n",
       "      <th>&gt; 0 ?</th>\n",
       "    </tr>\n",
       "  </thead>\n",
       "  <tbody>\n",
       "    <tr>\n",
       "      <th>0</th>\n",
       "      <td>2</td>\n",
       "      <td>True</td>\n",
       "    </tr>\n",
       "    <tr>\n",
       "      <th>1</th>\n",
       "      <td>8</td>\n",
       "      <td>True</td>\n",
       "    </tr>\n",
       "    <tr>\n",
       "      <th>2</th>\n",
       "      <td>-3</td>\n",
       "      <td>True</td>\n",
       "    </tr>\n",
       "    <tr>\n",
       "      <th>3</th>\n",
       "      <td>-5</td>\n",
       "      <td>False</td>\n",
       "    </tr>\n",
       "    <tr>\n",
       "      <th>4</th>\n",
       "      <td>3</td>\n",
       "      <td>True</td>\n",
       "    </tr>\n",
       "    <tr>\n",
       "      <th>5</th>\n",
       "      <td>6</td>\n",
       "      <td>True</td>\n",
       "    </tr>\n",
       "    <tr>\n",
       "      <th>6</th>\n",
       "      <td>7</td>\n",
       "      <td>True</td>\n",
       "    </tr>\n",
       "    <tr>\n",
       "      <th>7</th>\n",
       "      <td>3</td>\n",
       "      <td>False</td>\n",
       "    </tr>\n",
       "    <tr>\n",
       "      <th>8</th>\n",
       "      <td>-7</td>\n",
       "      <td>False</td>\n",
       "    </tr>\n",
       "    <tr>\n",
       "      <th>9</th>\n",
       "      <td>-1</td>\n",
       "      <td>False</td>\n",
       "    </tr>\n",
       "  </tbody>\n",
       "</table>\n",
       "</div>"
      ],
      "text/plain": [
       "   HealthScoreChange  > 0 ?\n",
       "0                  2   True\n",
       "1                  8   True\n",
       "2                 -3   True\n",
       "3                 -5  False\n",
       "4                  3   True\n",
       "5                  6   True\n",
       "6                  7   True\n",
       "7                  3  False\n",
       "8                 -7  False\n",
       "9                 -1  False"
      ]
     },
     "execution_count": 4,
     "metadata": {},
     "output_type": "execute_result"
    }
   ],
   "source": [
    "# Do you get the idea here?\n",
    "# Can you see what's chaning in the output below??\n",
    "\n",
    "print(pd.DataFrame({'HealthScoreChange': patient_data['HealthScoreChange'],\n",
    "                    '> 0 ?': patient_data['HealthScoreChange']>0}))\n",
    "\n",
    "random_difference_sign = np.random.choice([-1, 1], size=len(patient_data))\n",
    "pd.DataFrame({'HealthScoreChange': random_difference_sign*patient_data['HealthScoreChange'].abs(),\n",
    "              '> 0 ?': (random_difference_sign*patient_data['HealthScoreChange'])>0})"
   ]
  },
  {
   "cell_type": "code",
   "execution_count": 5,
   "id": "6e4599b4",
   "metadata": {},
   "outputs": [],
   "source": [
    "# And then can you see what's happening here???\n",
    "\n",
    "np.random.seed(1)  # make simulation reproducible\n",
    "number_of_simulations = 10000  # experiment with this... what does this do?\n",
    "n_size = len(patient_data)  # 10\n",
    "IncreaseProportionSimulations_underH0random = np.zeros(number_of_simulations)\n",
    "\n",
    "# generate \"random improvement\" proportions assuming H0 (vaccine has no average effect) is true \n",
    "# meaning that the \"before and after\" differences are positive or negative at \"random\"\n",
    "for i in range(number_of_simulations):\n",
    "    \n",
    "    # why is this equivalent to the suggested idea above?\n",
    "    random_improvement = np.random.choice([0,1], size=len(patient_data), replace=True)  # <<< `replace=True` ^^^\n",
    "\n",
    "    # why is .mean() a proportion? \n",
    "    IncreaseProportionSimulations_underH0random[i] = random_improvement.mean()\n",
    "    # why is this the statistic we're interested in? Hint: next section..."
   ]
  },
  {
   "cell_type": "code",
   "execution_count": 6,
   "id": "44002376",
   "metadata": {},
   "outputs": [
    {
     "name": "stdout",
     "output_type": "stream",
     "text": [
      "Which simulated statistics are \"as or more extreme\"\n",
      "than the observed statistic? (of 0.8)\n"
     ]
    },
    {
     "data": {
      "text/html": [
       "<div>\n",
       "<style scoped>\n",
       "    .dataframe tbody tr th:only-of-type {\n",
       "        vertical-align: middle;\n",
       "    }\n",
       "\n",
       "    .dataframe tbody tr th {\n",
       "        vertical-align: top;\n",
       "    }\n",
       "\n",
       "    .dataframe thead th {\n",
       "        text-align: right;\n",
       "    }\n",
       "</style>\n",
       "<table border=\"1\" class=\"dataframe\">\n",
       "  <thead>\n",
       "    <tr style=\"text-align: right;\">\n",
       "      <th></th>\n",
       "      <th>(Simulated) Statistic</th>\n",
       "      <th>&gt;= 0.8 ?</th>\n",
       "      <th>\"as or more extreme\"?</th>\n",
       "    </tr>\n",
       "  </thead>\n",
       "  <tbody>\n",
       "    <tr>\n",
       "      <th>0</th>\n",
       "      <td>0.7</td>\n",
       "      <td>&gt;= 0.8 ?</td>\n",
       "      <td>False</td>\n",
       "    </tr>\n",
       "    <tr>\n",
       "      <th>1</th>\n",
       "      <td>0.4</td>\n",
       "      <td>&gt;= 0.8 ?</td>\n",
       "      <td>False</td>\n",
       "    </tr>\n",
       "    <tr>\n",
       "      <th>2</th>\n",
       "      <td>0.3</td>\n",
       "      <td>&gt;= 0.8 ?</td>\n",
       "      <td>False</td>\n",
       "    </tr>\n",
       "    <tr>\n",
       "      <th>3</th>\n",
       "      <td>0.5</td>\n",
       "      <td>&gt;= 0.8 ?</td>\n",
       "      <td>False</td>\n",
       "    </tr>\n",
       "    <tr>\n",
       "      <th>4</th>\n",
       "      <td>0.8</td>\n",
       "      <td>&gt;= 0.8 ?</td>\n",
       "      <td>True</td>\n",
       "    </tr>\n",
       "    <tr>\n",
       "      <th>...</th>\n",
       "      <td>...</td>\n",
       "      <td>...</td>\n",
       "      <td>...</td>\n",
       "    </tr>\n",
       "    <tr>\n",
       "      <th>9995</th>\n",
       "      <td>0.4</td>\n",
       "      <td>&gt;= 0.8 ?</td>\n",
       "      <td>False</td>\n",
       "    </tr>\n",
       "    <tr>\n",
       "      <th>9996</th>\n",
       "      <td>0.1</td>\n",
       "      <td>&gt;= 0.8 ?</td>\n",
       "      <td>True</td>\n",
       "    </tr>\n",
       "    <tr>\n",
       "      <th>9997</th>\n",
       "      <td>0.4</td>\n",
       "      <td>&gt;= 0.8 ?</td>\n",
       "      <td>False</td>\n",
       "    </tr>\n",
       "    <tr>\n",
       "      <th>9998</th>\n",
       "      <td>0.6</td>\n",
       "      <td>&gt;= 0.8 ?</td>\n",
       "      <td>False</td>\n",
       "    </tr>\n",
       "    <tr>\n",
       "      <th>9999</th>\n",
       "      <td>0.4</td>\n",
       "      <td>&gt;= 0.8 ?</td>\n",
       "      <td>False</td>\n",
       "    </tr>\n",
       "  </tbody>\n",
       "</table>\n",
       "<p>10000 rows × 3 columns</p>\n",
       "</div>"
      ],
      "text/plain": [
       "      (Simulated) Statistic  >= 0.8 ?  \"as or more extreme\"?\n",
       "0                       0.7  >= 0.8 ?                  False\n",
       "1                       0.4  >= 0.8 ?                  False\n",
       "2                       0.3  >= 0.8 ?                  False\n",
       "3                       0.5  >= 0.8 ?                  False\n",
       "4                       0.8  >= 0.8 ?                   True\n",
       "...                     ...       ...                    ...\n",
       "9995                    0.4  >= 0.8 ?                  False\n",
       "9996                    0.1  >= 0.8 ?                   True\n",
       "9997                    0.4  >= 0.8 ?                  False\n",
       "9998                    0.6  >= 0.8 ?                  False\n",
       "9999                    0.4  >= 0.8 ?                  False\n",
       "\n",
       "[10000 rows x 3 columns]"
      ]
     },
     "execution_count": 6,
     "metadata": {},
     "output_type": "execute_result"
    }
   ],
   "source": [
    "# \"as or more extreme\" relative to the hypothesized parameter of the statistic!\n",
    "population_parameter_value_under_H0 = 0.5\n",
    "\n",
    "observed_statistic = (patient_data.HealthScoreChange>0).mean()\n",
    "simulated_statistics = IncreaseProportionSimulations_underH0random\n",
    "\n",
    "SimStats_as_or_more_extreme_than_ObsStat = \\\n",
    "    abs(simulated_statistics - population_parameter_value_under_H0) >= \\\n",
    "    abs(observed_statistic - population_parameter_value_under_H0) \n",
    "    \n",
    "print('''Which simulated statistics are \"as or more extreme\"\n",
    "than the observed statistic? (of ''', observed_statistic, ')', sep=\"\")\n",
    "\n",
    "pd.DataFrame({'(Simulated) Statistic': simulated_statistics,\n",
    "              '>= '+str(observed_statistic)+\" ?\": ['>= '+str(observed_statistic)+\" ?\"]*number_of_simulations, \n",
    "              '\"as or more extreme\"?': SimStats_as_or_more_extreme_than_ObsStat})"
   ]
  },
  {
   "cell_type": "code",
   "execution_count": 7,
   "id": "a5720756",
   "metadata": {},
   "outputs": [
    {
     "name": "stdout",
     "output_type": "stream",
     "text": [
      "p-value using old method:  0.068\n",
      "one-sided p value using greater than:  0.0565\n",
      "one-sided p value using less than:  0.9893\n"
     ]
    }
   ],
   "source": [
    "# Calculate the p-value\n",
    "# How many bootstrapped statistics generated under H0 \n",
    "# are \"as or more extreme\" than the observed statistic \n",
    "# (relative to the hypothesized population parameter)? \n",
    "\n",
    "observed_statistic = (patient_data.HealthScoreChange>0).mean()\n",
    "simulated_statistics = IncreaseProportionSimulations_underH0random\n",
    "\n",
    "# Be careful with \"as or more extreme\" as it's symmetric!\n",
    "SimStats_as_or_more_extreme_than_ObsStat = \\\n",
    "    abs(simulated_statistics - population_parameter_value_under_H0) >= \\\n",
    "    abs(observed_statistic - population_parameter_value_under_H0)\n",
    "    \n",
    "p_value = (SimStats_as_or_more_extreme_than_ObsStat).sum() / number_of_simulations\n",
    "\n",
    "# Calculate the p-value for a one-sided test (greater than)\n",
    "p_value_one_sided_gt = (simulated_statistics >= observed_statistic).sum() / number_of_simulations\n",
    "\n",
    "# Calculate the p-value for a one-sided test (less than)\n",
    "p_value_one_sided_lt = (simulated_statistics <= observed_statistic).sum() / number_of_simulations\n",
    "\n",
    "print('p-value using old method: ', p_value)\n",
    "print('one-sided p value using greater than: ', p_value_one_sided_gt)\n",
    "print('one-sided p value using less than: ', p_value_one_sided_lt)"
   ]
  },
  {
   "cell_type": "markdown",
   "id": "2b147dcc",
   "metadata": {},
   "source": [
    "The one-sided test only checks for extremes in one direction rather than the original two-sided test. While the two-sided test tested for deviations from the null hypothesis, the one-sided test just checked for a deviation in a specific direction. The p-value will be smaller in a one-sided test b/c you're only checking on one side, without the other side (in a two-sided test) to balance it out, resulting a more concentrated/focused (smaller) p-value."
   ]
  },
  {
   "cell_type": "markdown",
   "id": "7906bddd",
   "metadata": {},
   "source": [
    "**(8).**"
   ]
  },
  {
   "cell_type": "code",
   "execution_count": 8,
   "id": "6f355797",
   "metadata": {},
   "outputs": [],
   "source": [
    "# Import necessary libraries\n",
    "import numpy as np\n",
    "import pandas as pd\n",
    "from scipy.stats import binom\n",
    "\n",
    "# Setting the seed for reproducibility\n",
    "np.random.seed(42)"
   ]
  },
  {
   "cell_type": "markdown",
   "id": "09443763",
   "metadata": {},
   "source": [
    "**Problem Introduction:**\n",
    "We have a sample of 80 STA130 students. The goal is to test if their ability to guess the pouring order (tea or milk first) is better than random guessing (p = 0.5). In the experiment, 49 students correctly guessed the pouring order.\n",
    "\n",
    "**Population:** STA130 students or any general population capable of taking part in a similar experiment.\n",
    "\n",
    "**Sample:** 80 students from STA130.\n",
    "\n",
    "**Parameter of interest:** The probability that a student can correctly guess the pouring order.\n",
    "\n",
    "**Observed test statistic:** 49 correct guesses out of 80."
   ]
  },
  {
   "cell_type": "code",
   "execution_count": 9,
   "id": "0ad5823b",
   "metadata": {},
   "outputs": [],
   "source": [
    "# Given data\n",
    "n = 80  # Total number of students (sample size)\n",
    "observed_correct = 49  # Number of students who guessed correctly\n",
    "p = 0.5  # Probability under the null hypothesis (random guessing)"
   ]
  },
  {
   "cell_type": "markdown",
   "id": "c5b77b35",
   "metadata": {},
   "source": [
    "**Hypotheses:**\n",
    "\n",
    "*Formal Null Hypothesis (H0):* p = 0.5 (students are just guessing, with a 50% chance of getting the correct answer).\n",
    "\n",
    "*Informal H0:* The students have no real ability to tell the difference and are guessing the order randomly.\n",
    "\n",
    "*Alternative Hypothesis (HA):* p > 0.5 (students are not guessing and have a better-than-random ability to tell the difference).\n",
    "\n",
    "**Step 1: Calculate the p-value**\n",
    "We use a binomial test to compute the likelihood of getting 49 or more correct guesses under H0 (random guessing).\n"
   ]
  },
  {
   "cell_type": "code",
   "execution_count": 10,
   "id": "72f08a69",
   "metadata": {},
   "outputs": [
    {
     "name": "stdout",
     "output_type": "stream",
     "text": [
      "P-value: 0.02833\n"
     ]
    }
   ],
   "source": [
    "# Calculate the p-value using the binomial distribution\n",
    "p_value = 1 - binom.cdf(observed_correct - 1, n, p)\n",
    "\n",
    "# Output the results for interpretation\n",
    "print(f\"P-value: {p_value:.5f}\")"
   ]
  },
  {
   "cell_type": "markdown",
   "id": "10554bc0",
   "metadata": {},
   "source": [
    "**Explanation of the p-value:** The p-value represents the probability of observing 49 or more correct guesses purely by chance, assuming the students are guessing randomly (H0 is true). If the p-value is less than 0.05, we will reject the null hypothesis and conclude that the students can tell the difference better than random guessing.\n",
    "\n",
    "**Step 2:** Provide a formal conclusion based on the p-value"
   ]
  },
  {
   "cell_type": "code",
   "execution_count": 11,
   "id": "a1658c10",
   "metadata": {},
   "outputs": [
    {
     "name": "stdout",
     "output_type": "stream",
     "text": [
      "We reject the null hypothesis.\n",
      "Conclusion: There is enough evidence to suggest that the students can distinguish between the tea or milk being poured first better than random guessing.\n"
     ]
    }
   ],
   "source": [
    "alpha = 0.05  # Significance level\n",
    "\n",
    "if p_value < alpha:\n",
    "    print(\"We reject the null hypothesis.\")\n",
    "    print(\"Conclusion: There is enough evidence to suggest that the students can distinguish between the tea or milk being poured first better than random guessing.\")\n",
    "else:\n",
    "    print(\"We fail to reject the null hypothesis.\")\n",
    "    print(\"Conclusion: The students' correct responses could be due to random chance.\")"
   ]
  },
  {
   "cell_type": "markdown",
   "id": "4cf60581",
   "metadata": {},
   "source": [
    "Note: A confidence interval approach could also strengthen the results, but here we're focusing on hypothesis testing."
   ]
  },
  {
   "cell_type": "markdown",
   "id": "b6f2bfba",
   "metadata": {},
   "source": [
    "**(9).**\n",
    "\n",
    "obligatory 'yes'"
   ]
  }
 ],
 "metadata": {
  "kernelspec": {
   "display_name": "Python 3 (ipykernel)",
   "language": "python",
   "name": "python3"
  },
  "language_info": {
   "codemirror_mode": {
    "name": "ipython",
    "version": 3
   },
   "file_extension": ".py",
   "mimetype": "text/x-python",
   "name": "python",
   "nbconvert_exporter": "python",
   "pygments_lexer": "ipython3",
   "version": "3.11.6"
  }
 },
 "nbformat": 4,
 "nbformat_minor": 5
}
