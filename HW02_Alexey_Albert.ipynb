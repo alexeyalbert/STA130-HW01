{
 "cells": [
  {
   "cell_type": "markdown",
   "id": "771aebb0",
   "metadata": {},
   "source": [
    "# STA130 HW01\n",
    "**Alexey Albert**\\\n",
    "CHAT LOGS:\\\n",
    "https://chatgpt.com/share/66f4f63a-85d8-800d-bc9a-dd1d4d1d6c3e \\\n",
    "https://chatgpt.com/share/66f4f77f-9dc8-800d-8e90-d8dbf0bc6c5d \\\n",
    "https://chatgpt.com/share/66f4feda-d1c0-800d-9522-c22428b2eaaf \n",
    "\n",
    "\n",
    "## PRE-LECTURE:"
   ]
  },
  {
   "cell_type": "markdown",
   "id": "e87bccb4",
   "metadata": {},
   "source": [
    "**(1).** (see chat logs)"
   ]
  },
  {
   "cell_type": "markdown",
   "id": "71e99313",
   "metadata": {},
   "source": [
    "**(2). & (3).** Simplified code:"
   ]
  },
  {
   "cell_type": "code",
   "execution_count": 4,
   "id": "ea3b8d03",
   "metadata": {},
   "outputs": [
    {
     "name": "stdout",
     "output_type": "stream",
     "text": [
      "Win rate when switching: 66.74%\n"
     ]
    }
   ],
   "source": [
    "import numpy as np\n",
    "\n",
    "all_door_options = [1, 2, 3]\n",
    "my_initial_choice = 1\n",
    "i_won = 0\n",
    "reps = 100000\n",
    "\n",
    "for _ in range(reps):\n",
    "    # Randomly assign the prize behind one of the doors\n",
    "    winning_door = np.random.choice(all_door_options)\n",
    "    \n",
    "    # Monty reveals a goat door that isn't the player's choice or the winning door\n",
    "    remaining_doors = [door for door in all_door_options if door != my_initial_choice and door != winning_door]\n",
    "    revealed_goat_door = np.random.choice(remaining_doors)\n",
    "    \n",
    "    # Player switches to the only other door that wasn't chosen or revealed\n",
    "    switched_door = next(door for door in all_door_options if door != my_initial_choice and door != revealed_goat_door)\n",
    "    \n",
    "    # Check if switching leads to a win\n",
    "    if switched_door == winning_door:\n",
    "        i_won += 1\n",
    "\n",
    "# Calculate the win rate when switching\n",
    "win_rate = i_won / reps\n",
    "print(f\"Win rate when switching: {win_rate:.2%}\")"
   ]
  },
  {
   "cell_type": "markdown",
   "id": "6412bb30",
   "metadata": {},
   "source": [
    "I definitely prefer ChatGPT's version since it's easier to read, understand, is more neat, and overall seems like it's written better than the original code."
   ]
  },
  {
   "cell_type": "markdown",
   "id": "3b7cdb7c",
   "metadata": {},
   "source": [
    "**(4).** (see chat logs)"
   ]
  },
  {
   "cell_type": "markdown",
   "id": "286f285f",
   "metadata": {},
   "source": [
    "## POST-LECTURE:"
   ]
  },
  {
   "cell_type": "markdown",
   "id": "d5a727e2",
   "metadata": {},
   "source": [
    "**(5).**"
   ]
  },
  {
   "cell_type": "markdown",
   "id": "49911973",
   "metadata": {},
   "source": [
    "&nbsp;&nbsp;&nbsp;&nbsp;**1)** Yes, it figured it out first try. Refer to logs."
   ]
  },
  {
   "cell_type": "markdown",
   "id": "4683b0a1",
   "metadata": {},
   "source": [
    "&nbsp;&nbsp;&nbsp;&nbsp;**2)** It already explained pretty much everything I had some issues with on the first response, without me even asking"
   ]
  },
  {
   "cell_type": "markdown",
   "id": "abb701d4",
   "metadata": {},
   "source": [
    "&nbsp;&nbsp;&nbsp;&nbsp;**3)** Yep, it understood everything first try."
   ]
  },
  {
   "cell_type": "markdown",
   "id": "5fa546c9",
   "metadata": {},
   "source": [
    "**(6).**"
   ]
  },
  {
   "cell_type": "markdown",
   "id": "f0534c1a",
   "metadata": {},
   "source": [
    "&nbsp;&nbsp;&nbsp;&nbsp;**1)** It was instantly helpful. ChatGPT is arguably the best all-in-one gen ai chatbot platform, and it was instantly able to explain the code or answer any questions I had."
   ]
  },
  {
   "cell_type": "markdown",
   "id": "76eecb39",
   "metadata": {},
   "source": [
    "&nbsp;&nbsp;&nbsp;&nbsp;**2)** Not at all. It was always really good at answering my questions and almost went out of its way to really make sure I understood everything using examples, definitions, explanations, etc."
   ]
  },
  {
   "cell_type": "markdown",
   "id": "0ce8b598",
   "metadata": {},
   "source": [
    "&nbsp;&nbsp;&nbsp;&nbsp;**3)** I think they're really useful. I'm pretty comfortable with coding, but I could see it being a lot more useful for someone just starting out, or for much more complicated codebases/projects."
   ]
  },
  {
   "cell_type": "markdown",
   "id": "b9f3f418",
   "metadata": {},
   "source": [
    "**(7).** I think that my perception of chatbots has actually changed the most. I was bullish on their possibilities and applications, but I didn't think that I'd see them being actually integrated into academia any time soon, considering the stigma surrounding them and gen ai in general. It's also really helpful if you already know some stuff about a topic, like python, but don't know a specific library, like pandas. It can sort of translate that knowledge and use analogies that can especially help beginners. And in a subject like stats, I'd say that's pretty important. Overall, I'm still bullish, and they've changed my perception of their professional/education applications."
   ]
  },
  {
   "cell_type": "markdown",
   "id": "28afc526",
   "metadata": {},
   "source": [
    "**(8.).**"
   ]
  },
  {
   "cell_type": "markdown",
   "id": "79c101d8",
   "metadata": {},
   "source": [
    "&nbsp;&nbsp;&nbsp;&nbsp;**1) & 2)** (see chat logs)"
   ]
  },
  {
   "cell_type": "markdown",
   "id": "7bb849a7",
   "metadata": {},
   "source": [
    "&nbsp;&nbsp;&nbsp;&nbsp;**3)**\n",
    "https://chatgpt.com/share/66f4feda-d1c0-800d-9522-c22428b2eaaf\n",
    "\n",
    "Sure! Here's a summary of our conversation:\n",
    "\n",
    "We discussed key skills for a career in data science:\n",
    "\n",
    "1. **Core Skills**: \n",
    "   - **Statistics and Mathematics**: Vital for understanding data and models; explore advanced topics like Bayesian statistics.\n",
    "   - **Programming**: Python, SQL, R; focus on clean coding, software engineering practices, and distributed computing.\n",
    "   - **Machine Learning**: Understand algorithms, and stay updated on AutoML and deep learning for cutting-edge tasks.\n",
    "   - **Data Wrangling & Visualization**: Tools like Pandas, Matplotlib, and Tableau for analysis and communicating results effectively.\n",
    "\n",
    "2. **Soft Skills**: \n",
    "   - Communication and domain knowledge are essential for explaining insights and understanding industry-specific data.\n",
    "\n",
    "3. **Emerging Trends**:\n",
    "   - **Data Engineering and MLOps**: Skills in deploying scalable models with tools like Docker and Kubernetes.\n",
    "   - **Explainable AI**: Understanding interpretability tools (e.g., SHAP, LIME) is increasingly important.\n",
    "   - **NLP**: Popularity of models like GPT and BERT.\n",
    "   - **Privacy-Preserving Data Science**: Techniques like differential privacy and federated learning.\n",
    "   - **Synthetic Data**: Using synthetic data for privacy-safe model training.\n",
    "\n",
    "To gain an edge in the field, work on real-world projects, network, consider certifications, and stay ahead of emerging trends.\n",
    "\n",
    "Let me know if you need further details on any part!"
   ]
  },
  {
   "cell_type": "markdown",
   "id": "ec29fb62",
   "metadata": {},
   "source": [
    "&nbsp;&nbsp;&nbsp;&nbsp;**4)**\n",
    "\n",
    "I’m feeling more confident about my potential future in data science, but there are still several areas I need to focus on to stay competitive in the field. I have experience in coding, but I need to keep pushing myself and keep learning more. I should also keep learning more about the statistical concepts discussed in class, since that side of data science/the conceptual side is also really important and forms the basis for modeling/analysis done when applying knowlegde."
   ]
  },
  {
   "cell_type": "markdown",
   "id": "44858aff",
   "metadata": {},
   "source": [
    "&nbsp;&nbsp;&nbsp;&nbsp;**5)** \n",
    "\n",
    "I think this conversation was really helpful. It helped me understand more about the industry and what I should be looking into/focusing on, and why. If I had any questions or additional concerns, I could obviously just ask about them in the same conversation, but ChatGPT is always so helpful/goes out of its way to specify and be as helpful as possible that I didn't have any. Otherwise, if I needed a subject matter professional, I could just say \"imagine you're a highly experienced data science professor\" or something along those lines and it would provide me with the background I needed."
   ]
  },
  {
   "cell_type": "markdown",
   "id": "19a9c168",
   "metadata": {},
   "source": [
    "**(9).** Yes."
   ]
  },
  {
   "cell_type": "markdown",
   "id": "836dbe2e",
   "metadata": {},
   "source": [
    "CHAT LOGS:\\\n",
    "https://chatgpt.com/share/66f4f63a-85d8-800d-bc9a-dd1d4d1d6c3e \\\n",
    "https://chatgpt.com/share/66f4f77f-9dc8-800d-8e90-d8dbf0bc6c5d \\\n",
    "https://chatgpt.com/share/66f4feda-d1c0-800d-9522-c22428b2eaaf"
   ]
  }
 ],
 "metadata": {
  "kernelspec": {
   "display_name": "Python 3 (ipykernel)",
   "language": "python",
   "name": "python3"
  },
  "language_info": {
   "codemirror_mode": {
    "name": "ipython",
    "version": 3
   },
   "file_extension": ".py",
   "mimetype": "text/x-python",
   "name": "python",
   "nbconvert_exporter": "python",
   "pygments_lexer": "ipython3",
   "version": "3.11.6"
  }
 },
 "nbformat": 4,
 "nbformat_minor": 5
}
